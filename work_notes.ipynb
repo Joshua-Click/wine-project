{
 "cells": [
  {
   "cell_type": "markdown",
   "metadata": {},
   "source": [
    "## Acquired = Done"
   ]
  },
  {
   "cell_type": "markdown",
   "metadata": {},
   "source": [
    "### Combined into one dataframe with red/white"
   ]
  },
  {
   "cell_type": "markdown",
   "metadata": {},
   "source": [
    "## Prepare"
   ]
  },
  {
   "cell_type": "markdown",
   "metadata": {},
   "source": [
    "## No Nulls present"
   ]
  },
  {
   "cell_type": "markdown",
   "metadata": {},
   "source": []
  },
  {
   "cell_type": "markdown",
   "metadata": {},
   "source": [
    "## Explore before split"
   ]
  },
  {
   "cell_type": "markdown",
   "metadata": {},
   "source": [
    "### Quality ( target ) appears to have a normal dist"
   ]
  },
  {
   "cell_type": "markdown",
   "metadata": {},
   "source": [
    "### fixed_acidity - Lots of outliers \n",
    "- red ~ 12 and above\n",
    "- white ~ 9 and above ~ 4.5 and below"
   ]
  },
  {
   "cell_type": "markdown",
   "metadata": {},
   "source": [
    "### volatile_acidity\n",
    "- red ~ above 1.0\n",
    "- white ~ above .5"
   ]
  },
  {
   "cell_type": "markdown",
   "metadata": {},
   "source": [
    "### citric_acid\n",
    "- red ~ 1 above 1.00\n",
    "- white ~ lots above .60 ~ below .10"
   ]
  },
  {
   "cell_type": "markdown",
   "metadata": {},
   "source": [
    "### residual_sugar\n",
    "- red ~ lots above ( check chart)\n",
    "- white ~ above 22"
   ]
  },
  {
   "cell_type": "markdown",
   "metadata": {},
   "source": [
    "### chlorides\n",
    "- red ~ lots above .1\n",
    "- white ~ lots above .08"
   ]
  },
  {
   "cell_type": "markdown",
   "metadata": {},
   "source": [
    "### free_sulfur_dioxide\n",
    "- red ~ above 48ish\n",
    "- white ~ above ( check chart)"
   ]
  },
  {
   "cell_type": "markdown",
   "metadata": {},
   "source": [
    "### total_sulfur_dioxide\n",
    "- red ~ above 110ish\n",
    "- white ~ above 280ish"
   ]
  },
  {
   "cell_type": "markdown",
   "metadata": {},
   "source": [
    "### density\n",
    "red ~ above 1.00 ~ below ( check chart)\n",
    "white ~ few above 1.00"
   ]
  },
  {
   "cell_type": "markdown",
   "metadata": {},
   "source": [
    "### pH\n",
    "- red ~ above 3.7 ~ below 2.9ish\n",
    "- white ~ lots above 3.6 ~ below 2.8\n"
   ]
  },
  {
   "cell_type": "markdown",
   "metadata": {},
   "source": [
    "### sulphates\n",
    "- red ~ above 1.00\n",
    "- white ~ above .75"
   ]
  },
  {
   "cell_type": "markdown",
   "metadata": {},
   "source": [
    "### alcohol\n",
    "- red ~ few above 13.5\n",
    "- white ~ none"
   ]
  },
  {
   "cell_type": "markdown",
   "metadata": {},
   "source": [
    "### quality\n",
    "- not a whole lot in either"
   ]
  },
  {
   "cell_type": "markdown",
   "metadata": {},
   "source": []
  }
 ],
 "metadata": {
  "language_info": {
   "name": "python"
  },
  "orig_nbformat": 4
 },
 "nbformat": 4,
 "nbformat_minor": 2
}
